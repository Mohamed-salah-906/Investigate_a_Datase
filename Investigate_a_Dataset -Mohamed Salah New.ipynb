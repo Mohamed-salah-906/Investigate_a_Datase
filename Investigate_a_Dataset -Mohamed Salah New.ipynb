{
 "cells": [
  {
   "cell_type": "markdown",
   "metadata": {
    "id": "N-LgFYX63XW1"
   },
   "source": [
    "# Project: Investigate a Dataset - [no showappointments]\n",
    "\n",
    "## Table of Contents\n",
    "<ul>\n",
    "<li><a href=\"#intro\">Introduction</a></li>\n",
    "<li><a href=\"#wrangling\">Data Wrangling</a></li>\n",
    "<li><a href=\"#cleaning\">Data cleaning</a></li>\n",
    "<li><a href=\"#eda\">Exploratory Data Analysis</a></li>\n",
    "<li><a href=\"#conclusions\">Conclusions</a></li>\n",
    "</ul>"
   ]
  },
  {
   "cell_type": "markdown",
   "metadata": {
    "id": "zUrPTHxx3XW4"
   },
   "source": [
    "<a id='intro'></a>\n",
    "## Introduction\n",
    "\n",
    "### Dataset Description \n",
    "\n",
    "This dataset collects information from 100k medical appointments in Brazil and is focused on the question of whether or not patients show up for their appointment. A number of characteristics about the patient are included in each row.\n",
    "\n",
    "\n",
    "### Question(s) for Analysis\n",
    "**Research Question 1**: Is there a relationship between the number of diseases the patient have and coming to the appointment?\n",
    "\n",
    " **Research Question 2**:  Is there a relationship between the age of the patient and coming to the appointment?\n",
    "\n",
    " **Research Question 3**:  Is there a relationship between the day of the appointment and coming to the appointment?"
   ]
  },
  {
   "cell_type": "code",
   "execution_count": 156,
   "metadata": {
    "id": "N7fCsZsX3XW5"
   },
   "outputs": [],
   "source": [
    "#importing the required tools\n",
    "import pandas as pd\n",
    "import numpy as np\n",
    "import matplotlib.pyplot as plt\n",
    "%matplotlib inline"
   ]
  },
  {
   "cell_type": "markdown",
   "metadata": {
    "id": "GD0_STzp3XW6"
   },
   "source": [
    "<a id='wrangling'></a>\n",
    "## Data Wrangling\n",
    "\n",
    "In this section we will start to acccess our data and take a close look to the records and the features of the dataset and start to check for problems like duplications , missing data or invalid data type.\n"
   ]
  },
  {
   "cell_type": "markdown",
   "metadata": {
    "id": "MzjIBpP-3XW6"
   },
   "source": [
    "***Accessing data***"
   ]
  },
  {
   "cell_type": "markdown",
   "metadata": {
    "id": "NIBPjV-13XW7"
   },
   "source": [
    "we will start by viewing the raw data and showing a sample of it and showing some statistical data"
   ]
  },
  {
   "cell_type": "code",
   "execution_count": 157,
   "metadata": {
    "id": "zcG2EQ_U3XW7"
   },
   "outputs": [],
   "source": [
    "## first let's load our dataset using pandas\n",
    "df = pd.read_csv('noshowappointments-kagglev2-may-2016.csv')\n"
   ]
  },
  {
   "cell_type": "code",
   "execution_count": 158,
   "metadata": {
    "colab": {
     "base_uri": "https://localhost:8080/"
    },
    "id": "kn-hnBIz3XW8",
    "outputId": "78615157-6f44-49af-c959-38a93d8e63e9"
   },
   "outputs": [
    {
     "name": "stdout",
     "output_type": "stream",
     "text": [
      "<class 'pandas.core.frame.DataFrame'>\n",
      "RangeIndex: 110527 entries, 0 to 110526\n",
      "Data columns (total 14 columns):\n",
      " #   Column          Non-Null Count   Dtype  \n",
      "---  ------          --------------   -----  \n",
      " 0   PatientId       110527 non-null  float64\n",
      " 1   AppointmentID   110527 non-null  int64  \n",
      " 2   Gender          110527 non-null  object \n",
      " 3   ScheduledDay    110527 non-null  object \n",
      " 4   AppointmentDay  110527 non-null  object \n",
      " 5   Age             110527 non-null  int64  \n",
      " 6   Neighbourhood   110527 non-null  object \n",
      " 7   Scholarship     110527 non-null  int64  \n",
      " 8   Hipertension    110527 non-null  int64  \n",
      " 9   Diabetes        110527 non-null  int64  \n",
      " 10  Alcoholism      110527 non-null  int64  \n",
      " 11  Handcap         110527 non-null  int64  \n",
      " 12  SMS_received    110527 non-null  int64  \n",
      " 13  No-show         110527 non-null  object \n",
      "dtypes: float64(1), int64(8), object(5)\n",
      "memory usage: 11.8+ MB\n"
     ]
    }
   ],
   "source": [
    "##now let's see the information of the dataset(number of columns , rows , null values and the type of each column)\n",
    "df.info()\n",
    "##we get 14 columns and 110527 rows and no null values"
   ]
  },
  {
   "cell_type": "code",
   "execution_count": 159,
   "metadata": {
    "colab": {
     "base_uri": "https://localhost:8080/",
     "height": 363
    },
    "id": "_1EI3txw3XW9",
    "outputId": "9ed39e8c-d5bc-49e9-c9a8-13ed1fa1db47"
   },
   "outputs": [
    {
     "data": {
      "text/html": [
       "<div>\n",
       "<style scoped>\n",
       "    .dataframe tbody tr th:only-of-type {\n",
       "        vertical-align: middle;\n",
       "    }\n",
       "\n",
       "    .dataframe tbody tr th {\n",
       "        vertical-align: top;\n",
       "    }\n",
       "\n",
       "    .dataframe thead th {\n",
       "        text-align: right;\n",
       "    }\n",
       "</style>\n",
       "<table border=\"1\" class=\"dataframe\">\n",
       "  <thead>\n",
       "    <tr style=\"text-align: right;\">\n",
       "      <th></th>\n",
       "      <th>PatientId</th>\n",
       "      <th>AppointmentID</th>\n",
       "      <th>Gender</th>\n",
       "      <th>ScheduledDay</th>\n",
       "      <th>AppointmentDay</th>\n",
       "      <th>Age</th>\n",
       "      <th>Neighbourhood</th>\n",
       "      <th>Scholarship</th>\n",
       "      <th>Hipertension</th>\n",
       "      <th>Diabetes</th>\n",
       "      <th>Alcoholism</th>\n",
       "      <th>Handcap</th>\n",
       "      <th>SMS_received</th>\n",
       "      <th>No-show</th>\n",
       "    </tr>\n",
       "  </thead>\n",
       "  <tbody>\n",
       "    <tr>\n",
       "      <th>0</th>\n",
       "      <td>2.987250e+13</td>\n",
       "      <td>5642903</td>\n",
       "      <td>F</td>\n",
       "      <td>2016-04-29T18:38:08Z</td>\n",
       "      <td>2016-04-29T00:00:00Z</td>\n",
       "      <td>62</td>\n",
       "      <td>JARDIM DA PENHA</td>\n",
       "      <td>0</td>\n",
       "      <td>1</td>\n",
       "      <td>0</td>\n",
       "      <td>0</td>\n",
       "      <td>0</td>\n",
       "      <td>0</td>\n",
       "      <td>No</td>\n",
       "    </tr>\n",
       "    <tr>\n",
       "      <th>1</th>\n",
       "      <td>5.589978e+14</td>\n",
       "      <td>5642503</td>\n",
       "      <td>M</td>\n",
       "      <td>2016-04-29T16:08:27Z</td>\n",
       "      <td>2016-04-29T00:00:00Z</td>\n",
       "      <td>56</td>\n",
       "      <td>JARDIM DA PENHA</td>\n",
       "      <td>0</td>\n",
       "      <td>0</td>\n",
       "      <td>0</td>\n",
       "      <td>0</td>\n",
       "      <td>0</td>\n",
       "      <td>0</td>\n",
       "      <td>No</td>\n",
       "    </tr>\n",
       "    <tr>\n",
       "      <th>2</th>\n",
       "      <td>4.262962e+12</td>\n",
       "      <td>5642549</td>\n",
       "      <td>F</td>\n",
       "      <td>2016-04-29T16:19:04Z</td>\n",
       "      <td>2016-04-29T00:00:00Z</td>\n",
       "      <td>62</td>\n",
       "      <td>MATA DA PRAIA</td>\n",
       "      <td>0</td>\n",
       "      <td>0</td>\n",
       "      <td>0</td>\n",
       "      <td>0</td>\n",
       "      <td>0</td>\n",
       "      <td>0</td>\n",
       "      <td>No</td>\n",
       "    </tr>\n",
       "    <tr>\n",
       "      <th>3</th>\n",
       "      <td>8.679512e+11</td>\n",
       "      <td>5642828</td>\n",
       "      <td>F</td>\n",
       "      <td>2016-04-29T17:29:31Z</td>\n",
       "      <td>2016-04-29T00:00:00Z</td>\n",
       "      <td>8</td>\n",
       "      <td>PONTAL DE CAMBURI</td>\n",
       "      <td>0</td>\n",
       "      <td>0</td>\n",
       "      <td>0</td>\n",
       "      <td>0</td>\n",
       "      <td>0</td>\n",
       "      <td>0</td>\n",
       "      <td>No</td>\n",
       "    </tr>\n",
       "    <tr>\n",
       "      <th>4</th>\n",
       "      <td>8.841186e+12</td>\n",
       "      <td>5642494</td>\n",
       "      <td>F</td>\n",
       "      <td>2016-04-29T16:07:23Z</td>\n",
       "      <td>2016-04-29T00:00:00Z</td>\n",
       "      <td>56</td>\n",
       "      <td>JARDIM DA PENHA</td>\n",
       "      <td>0</td>\n",
       "      <td>1</td>\n",
       "      <td>1</td>\n",
       "      <td>0</td>\n",
       "      <td>0</td>\n",
       "      <td>0</td>\n",
       "      <td>No</td>\n",
       "    </tr>\n",
       "    <tr>\n",
       "      <th>5</th>\n",
       "      <td>9.598513e+13</td>\n",
       "      <td>5626772</td>\n",
       "      <td>F</td>\n",
       "      <td>2016-04-27T08:36:51Z</td>\n",
       "      <td>2016-04-29T00:00:00Z</td>\n",
       "      <td>76</td>\n",
       "      <td>REPÚBLICA</td>\n",
       "      <td>0</td>\n",
       "      <td>1</td>\n",
       "      <td>0</td>\n",
       "      <td>0</td>\n",
       "      <td>0</td>\n",
       "      <td>0</td>\n",
       "      <td>No</td>\n",
       "    </tr>\n",
       "    <tr>\n",
       "      <th>6</th>\n",
       "      <td>7.336882e+14</td>\n",
       "      <td>5630279</td>\n",
       "      <td>F</td>\n",
       "      <td>2016-04-27T15:05:12Z</td>\n",
       "      <td>2016-04-29T00:00:00Z</td>\n",
       "      <td>23</td>\n",
       "      <td>GOIABEIRAS</td>\n",
       "      <td>0</td>\n",
       "      <td>0</td>\n",
       "      <td>0</td>\n",
       "      <td>0</td>\n",
       "      <td>0</td>\n",
       "      <td>0</td>\n",
       "      <td>Yes</td>\n",
       "    </tr>\n",
       "    <tr>\n",
       "      <th>7</th>\n",
       "      <td>3.449833e+12</td>\n",
       "      <td>5630575</td>\n",
       "      <td>F</td>\n",
       "      <td>2016-04-27T15:39:58Z</td>\n",
       "      <td>2016-04-29T00:00:00Z</td>\n",
       "      <td>39</td>\n",
       "      <td>GOIABEIRAS</td>\n",
       "      <td>0</td>\n",
       "      <td>0</td>\n",
       "      <td>0</td>\n",
       "      <td>0</td>\n",
       "      <td>0</td>\n",
       "      <td>0</td>\n",
       "      <td>Yes</td>\n",
       "    </tr>\n",
       "    <tr>\n",
       "      <th>8</th>\n",
       "      <td>5.639473e+13</td>\n",
       "      <td>5638447</td>\n",
       "      <td>F</td>\n",
       "      <td>2016-04-29T08:02:16Z</td>\n",
       "      <td>2016-04-29T00:00:00Z</td>\n",
       "      <td>21</td>\n",
       "      <td>ANDORINHAS</td>\n",
       "      <td>0</td>\n",
       "      <td>0</td>\n",
       "      <td>0</td>\n",
       "      <td>0</td>\n",
       "      <td>0</td>\n",
       "      <td>0</td>\n",
       "      <td>No</td>\n",
       "    </tr>\n",
       "    <tr>\n",
       "      <th>9</th>\n",
       "      <td>7.812456e+13</td>\n",
       "      <td>5629123</td>\n",
       "      <td>F</td>\n",
       "      <td>2016-04-27T12:48:25Z</td>\n",
       "      <td>2016-04-29T00:00:00Z</td>\n",
       "      <td>19</td>\n",
       "      <td>CONQUISTA</td>\n",
       "      <td>0</td>\n",
       "      <td>0</td>\n",
       "      <td>0</td>\n",
       "      <td>0</td>\n",
       "      <td>0</td>\n",
       "      <td>0</td>\n",
       "      <td>No</td>\n",
       "    </tr>\n",
       "  </tbody>\n",
       "</table>\n",
       "</div>"
      ],
      "text/plain": [
       "      PatientId  AppointmentID Gender          ScheduledDay  \\\n",
       "0  2.987250e+13        5642903      F  2016-04-29T18:38:08Z   \n",
       "1  5.589978e+14        5642503      M  2016-04-29T16:08:27Z   \n",
       "2  4.262962e+12        5642549      F  2016-04-29T16:19:04Z   \n",
       "3  8.679512e+11        5642828      F  2016-04-29T17:29:31Z   \n",
       "4  8.841186e+12        5642494      F  2016-04-29T16:07:23Z   \n",
       "5  9.598513e+13        5626772      F  2016-04-27T08:36:51Z   \n",
       "6  7.336882e+14        5630279      F  2016-04-27T15:05:12Z   \n",
       "7  3.449833e+12        5630575      F  2016-04-27T15:39:58Z   \n",
       "8  5.639473e+13        5638447      F  2016-04-29T08:02:16Z   \n",
       "9  7.812456e+13        5629123      F  2016-04-27T12:48:25Z   \n",
       "\n",
       "         AppointmentDay  Age      Neighbourhood  Scholarship  Hipertension  \\\n",
       "0  2016-04-29T00:00:00Z   62    JARDIM DA PENHA            0             1   \n",
       "1  2016-04-29T00:00:00Z   56    JARDIM DA PENHA            0             0   \n",
       "2  2016-04-29T00:00:00Z   62      MATA DA PRAIA            0             0   \n",
       "3  2016-04-29T00:00:00Z    8  PONTAL DE CAMBURI            0             0   \n",
       "4  2016-04-29T00:00:00Z   56    JARDIM DA PENHA            0             1   \n",
       "5  2016-04-29T00:00:00Z   76          REPÚBLICA            0             1   \n",
       "6  2016-04-29T00:00:00Z   23         GOIABEIRAS            0             0   \n",
       "7  2016-04-29T00:00:00Z   39         GOIABEIRAS            0             0   \n",
       "8  2016-04-29T00:00:00Z   21         ANDORINHAS            0             0   \n",
       "9  2016-04-29T00:00:00Z   19          CONQUISTA            0             0   \n",
       "\n",
       "   Diabetes  Alcoholism  Handcap  SMS_received No-show  \n",
       "0         0           0        0             0      No  \n",
       "1         0           0        0             0      No  \n",
       "2         0           0        0             0      No  \n",
       "3         0           0        0             0      No  \n",
       "4         1           0        0             0      No  \n",
       "5         0           0        0             0      No  \n",
       "6         0           0        0             0     Yes  \n",
       "7         0           0        0             0     Yes  \n",
       "8         0           0        0             0      No  \n",
       "9         0           0        0             0      No  "
      ]
     },
     "execution_count": 159,
     "metadata": {},
     "output_type": "execute_result"
    }
   ],
   "source": [
    "## let's see the first 10 rows of our dataset\n",
    "df.head(10)"
   ]
  },
  {
   "cell_type": "code",
   "execution_count": 160,
   "metadata": {
    "colab": {
     "base_uri": "https://localhost:8080/",
     "height": 300
    },
    "id": "ooRXuOVm3XW9",
    "outputId": "3d858f7f-a093-4764-b895-dca393becd00"
   },
   "outputs": [
    {
     "data": {
      "text/html": [
       "<div>\n",
       "<style scoped>\n",
       "    .dataframe tbody tr th:only-of-type {\n",
       "        vertical-align: middle;\n",
       "    }\n",
       "\n",
       "    .dataframe tbody tr th {\n",
       "        vertical-align: top;\n",
       "    }\n",
       "\n",
       "    .dataframe thead th {\n",
       "        text-align: right;\n",
       "    }\n",
       "</style>\n",
       "<table border=\"1\" class=\"dataframe\">\n",
       "  <thead>\n",
       "    <tr style=\"text-align: right;\">\n",
       "      <th></th>\n",
       "      <th>PatientId</th>\n",
       "      <th>AppointmentID</th>\n",
       "      <th>Age</th>\n",
       "      <th>Scholarship</th>\n",
       "      <th>Hipertension</th>\n",
       "      <th>Diabetes</th>\n",
       "      <th>Alcoholism</th>\n",
       "      <th>Handcap</th>\n",
       "      <th>SMS_received</th>\n",
       "    </tr>\n",
       "  </thead>\n",
       "  <tbody>\n",
       "    <tr>\n",
       "      <th>count</th>\n",
       "      <td>1.105270e+05</td>\n",
       "      <td>1.105270e+05</td>\n",
       "      <td>110527.000000</td>\n",
       "      <td>110527.000000</td>\n",
       "      <td>110527.000000</td>\n",
       "      <td>110527.000000</td>\n",
       "      <td>110527.000000</td>\n",
       "      <td>110527.000000</td>\n",
       "      <td>110527.000000</td>\n",
       "    </tr>\n",
       "    <tr>\n",
       "      <th>mean</th>\n",
       "      <td>1.474963e+14</td>\n",
       "      <td>5.675305e+06</td>\n",
       "      <td>37.088874</td>\n",
       "      <td>0.098266</td>\n",
       "      <td>0.197246</td>\n",
       "      <td>0.071865</td>\n",
       "      <td>0.030400</td>\n",
       "      <td>0.022248</td>\n",
       "      <td>0.321026</td>\n",
       "    </tr>\n",
       "    <tr>\n",
       "      <th>std</th>\n",
       "      <td>2.560949e+14</td>\n",
       "      <td>7.129575e+04</td>\n",
       "      <td>23.110205</td>\n",
       "      <td>0.297675</td>\n",
       "      <td>0.397921</td>\n",
       "      <td>0.258265</td>\n",
       "      <td>0.171686</td>\n",
       "      <td>0.161543</td>\n",
       "      <td>0.466873</td>\n",
       "    </tr>\n",
       "    <tr>\n",
       "      <th>min</th>\n",
       "      <td>3.921784e+04</td>\n",
       "      <td>5.030230e+06</td>\n",
       "      <td>-1.000000</td>\n",
       "      <td>0.000000</td>\n",
       "      <td>0.000000</td>\n",
       "      <td>0.000000</td>\n",
       "      <td>0.000000</td>\n",
       "      <td>0.000000</td>\n",
       "      <td>0.000000</td>\n",
       "    </tr>\n",
       "    <tr>\n",
       "      <th>25%</th>\n",
       "      <td>4.172614e+12</td>\n",
       "      <td>5.640286e+06</td>\n",
       "      <td>18.000000</td>\n",
       "      <td>0.000000</td>\n",
       "      <td>0.000000</td>\n",
       "      <td>0.000000</td>\n",
       "      <td>0.000000</td>\n",
       "      <td>0.000000</td>\n",
       "      <td>0.000000</td>\n",
       "    </tr>\n",
       "    <tr>\n",
       "      <th>50%</th>\n",
       "      <td>3.173184e+13</td>\n",
       "      <td>5.680573e+06</td>\n",
       "      <td>37.000000</td>\n",
       "      <td>0.000000</td>\n",
       "      <td>0.000000</td>\n",
       "      <td>0.000000</td>\n",
       "      <td>0.000000</td>\n",
       "      <td>0.000000</td>\n",
       "      <td>0.000000</td>\n",
       "    </tr>\n",
       "    <tr>\n",
       "      <th>75%</th>\n",
       "      <td>9.439172e+13</td>\n",
       "      <td>5.725524e+06</td>\n",
       "      <td>55.000000</td>\n",
       "      <td>0.000000</td>\n",
       "      <td>0.000000</td>\n",
       "      <td>0.000000</td>\n",
       "      <td>0.000000</td>\n",
       "      <td>0.000000</td>\n",
       "      <td>1.000000</td>\n",
       "    </tr>\n",
       "    <tr>\n",
       "      <th>max</th>\n",
       "      <td>9.999816e+14</td>\n",
       "      <td>5.790484e+06</td>\n",
       "      <td>115.000000</td>\n",
       "      <td>1.000000</td>\n",
       "      <td>1.000000</td>\n",
       "      <td>1.000000</td>\n",
       "      <td>1.000000</td>\n",
       "      <td>4.000000</td>\n",
       "      <td>1.000000</td>\n",
       "    </tr>\n",
       "  </tbody>\n",
       "</table>\n",
       "</div>"
      ],
      "text/plain": [
       "          PatientId  AppointmentID            Age    Scholarship  \\\n",
       "count  1.105270e+05   1.105270e+05  110527.000000  110527.000000   \n",
       "mean   1.474963e+14   5.675305e+06      37.088874       0.098266   \n",
       "std    2.560949e+14   7.129575e+04      23.110205       0.297675   \n",
       "min    3.921784e+04   5.030230e+06      -1.000000       0.000000   \n",
       "25%    4.172614e+12   5.640286e+06      18.000000       0.000000   \n",
       "50%    3.173184e+13   5.680573e+06      37.000000       0.000000   \n",
       "75%    9.439172e+13   5.725524e+06      55.000000       0.000000   \n",
       "max    9.999816e+14   5.790484e+06     115.000000       1.000000   \n",
       "\n",
       "        Hipertension       Diabetes     Alcoholism        Handcap  \\\n",
       "count  110527.000000  110527.000000  110527.000000  110527.000000   \n",
       "mean        0.197246       0.071865       0.030400       0.022248   \n",
       "std         0.397921       0.258265       0.171686       0.161543   \n",
       "min         0.000000       0.000000       0.000000       0.000000   \n",
       "25%         0.000000       0.000000       0.000000       0.000000   \n",
       "50%         0.000000       0.000000       0.000000       0.000000   \n",
       "75%         0.000000       0.000000       0.000000       0.000000   \n",
       "max         1.000000       1.000000       1.000000       4.000000   \n",
       "\n",
       "        SMS_received  \n",
       "count  110527.000000  \n",
       "mean        0.321026  \n",
       "std         0.466873  \n",
       "min         0.000000  \n",
       "25%         0.000000  \n",
       "50%         0.000000  \n",
       "75%         1.000000  \n",
       "max         1.000000  "
      ]
     },
     "execution_count": 160,
     "metadata": {},
     "output_type": "execute_result"
    }
   ],
   "source": [
    "##let's see the statistics of our dataset(mean , std and etc)\n",
    "df.describe()"
   ]
  },
  {
   "cell_type": "markdown",
   "metadata": {
    "id": "cjBGb0td3XW-"
   },
   "source": [
    "***Checking for missing data***"
   ]
  },
  {
   "cell_type": "markdown",
   "metadata": {
    "id": "BD9k27hF3XW-"
   },
   "source": [
    "we will check if we have nan values which is null values(missing)"
   ]
  },
  {
   "cell_type": "code",
   "execution_count": 161,
   "metadata": {
    "colab": {
     "base_uri": "https://localhost:8080/"
    },
    "id": "IzTL-l3K3XW-",
    "outputId": "ea408fb8-9a80-483d-a402-5e91cdedc711"
   },
   "outputs": [
    {
     "data": {
      "text/plain": [
       "False"
      ]
     },
     "execution_count": 161,
     "metadata": {},
     "output_type": "execute_result"
    }
   ],
   "source": [
    "##check if there is null values\n",
    "df.isnull().values.any()"
   ]
  },
  {
   "cell_type": "markdown",
   "metadata": {
    "id": "uj47bWRJ3XW_"
   },
   "source": [
    "conclusion: no missing values found"
   ]
  },
  {
   "cell_type": "markdown",
   "metadata": {
    "id": "7ClcHZAv3XW_"
   },
   "source": [
    "***Checking for Duplcications***"
   ]
  },
  {
   "cell_type": "markdown",
   "metadata": {
    "id": "1EBHPCvb3XW_"
   },
   "source": [
    "we will check if there is any duplicates in the records"
   ]
  },
  {
   "cell_type": "code",
   "execution_count": 162,
   "metadata": {
    "colab": {
     "base_uri": "https://localhost:8080/"
    },
    "id": "JMx1k1x-3XW_",
    "outputId": "c63c7bd7-0e40-4e68-b160-5994ec7d4019"
   },
   "outputs": [
    {
     "data": {
      "text/plain": [
       "True"
      ]
     },
     "execution_count": 162,
     "metadata": {},
     "output_type": "execute_result"
    }
   ],
   "source": [
    "##check for duplication\n",
    "##of course there will be alot of appointement in same day and age and the other columns\n",
    "##but there must not be any duplicates in the primary keys as id (PatientId and AppointmentID )\n",
    "## first let's check if there is duplicated patient id(if true this means there is duplicated)\n",
    "df.duplicated(subset=['PatientId']).any()"
   ]
  },
  {
   "cell_type": "code",
   "execution_count": 163,
   "metadata": {
    "colab": {
     "base_uri": "https://localhost:8080/"
    },
    "id": "DQmxtRtF3XXA",
    "outputId": "38db30ec-21eb-460d-e6e4-177d999ab829"
   },
   "outputs": [
    {
     "data": {
      "text/plain": [
       "48228"
      ]
     },
     "execution_count": 163,
     "metadata": {},
     "output_type": "execute_result"
    }
   ],
   "source": [
    "## we found that there is duplicated , now let's see the number of the duplicated cells\n",
    "sum(df['PatientId'].duplicated())"
   ]
  },
  {
   "cell_type": "code",
   "execution_count": 164,
   "metadata": {
    "colab": {
     "base_uri": "https://localhost:8080/"
    },
    "id": "ZwuCRZ213XXA",
    "outputId": "023f5046-6e91-4eac-e0de-def2fdac8d18"
   },
   "outputs": [
    {
     "data": {
      "text/plain": [
       "False"
      ]
     },
     "execution_count": 164,
     "metadata": {},
     "output_type": "execute_result"
    }
   ],
   "source": [
    "##let's check if there is duplicated values in the appointment id\n",
    "df.duplicated(subset=['AppointmentID']).any()"
   ]
  },
  {
   "cell_type": "code",
   "execution_count": 165,
   "metadata": {
    "colab": {
     "base_uri": "https://localhost:8080/"
    },
    "id": "HyCf5eBx3XXA",
    "outputId": "5fdd462f-414a-4b95-be40-dfa1499cb82d"
   },
   "outputs": [
    {
     "data": {
      "text/plain": [
       "False"
      ]
     },
     "execution_count": 165,
     "metadata": {},
     "output_type": "execute_result"
    }
   ],
   "source": [
    "##now let's check if the same patient id is duplicated with the same appointment id\n",
    "## if true this means that the dataset contain false or wrong data\n",
    "## if false this mean that the same patient come to visit doctor on different appointments and this normal\n",
    "df.duplicated(subset=['PatientId','AppointmentID']).any()"
   ]
  },
  {
   "cell_type": "markdown",
   "metadata": {
    "id": "_QxmdyJc3XXB"
   },
   "source": [
    "conclusion: we found that the PatientId have some duplicates which is not considered a problem because the swe found that the PatientId have some duplicates which is not considered a problem because the same patient can go to the same doctor many times and that's why we tried to see if there is duplicates in the AppointmentID and if there is duplicates between both of the PatientId adn the AppointmentID in the same record and we didn't find that so it is ok."
   ]
  },
  {
   "cell_type": "markdown",
   "metadata": {
    "id": "hOYQxFQi3XXB"
   },
   "source": [
    "***Checking for flase/outrange data***"
   ]
  },
  {
   "cell_type": "markdown",
   "metadata": {
    "id": "zNqdKBTC3XXB"
   },
   "source": [
    "check if there is any values that is considered invalid like negative age number , etc."
   ]
  },
  {
   "cell_type": "code",
   "execution_count": 166,
   "metadata": {
    "colab": {
     "base_uri": "https://localhost:8080/"
    },
    "id": "gsvbFqWq3XXB",
    "outputId": "77149755-7dd4-439a-abd5-e2cc277417bc"
   },
   "outputs": [
    {
     "data": {
      "text/plain": [
       "False"
      ]
     },
     "execution_count": 166,
     "metadata": {},
     "output_type": "execute_result"
    }
   ],
   "source": [
    "##let's check if there is any negative values in the numeric columns ('PatientId','Scholarship',\n",
    "##'Hipertension','Diabetes','Alcoholism','Handcap','AppointmentID','SMS_received')\n",
    "##after checking each and every column for negative values i found that only 'Age' column contains negative value\n",
    "(df[['PatientId','Scholarship','Hipertension','Diabetes','Alcoholism','Handcap','AppointmentID','SMS_received']] < 0).values.any()"
   ]
  },
  {
   "cell_type": "code",
   "execution_count": 167,
   "metadata": {
    "colab": {
     "base_uri": "https://localhost:8080/"
    },
    "id": "f340LqF03XXB",
    "outputId": "4b2a7851-0ff2-4272-a65f-1c447fc14b8b"
   },
   "outputs": [
    {
     "data": {
      "text/plain": [
       "True"
      ]
     },
     "execution_count": 167,
     "metadata": {},
     "output_type": "execute_result"
    }
   ],
   "source": [
    "(df[['Age']] < 0).values.any()"
   ]
  },
  {
   "cell_type": "code",
   "execution_count": 168,
   "metadata": {
    "colab": {
     "base_uri": "https://localhost:8080/"
    },
    "id": "WtZgvhDG3XXC",
    "outputId": "7ae308e2-da26-44e7-bf33-eebee35f1d8d"
   },
   "outputs": [
    {
     "data": {
      "text/plain": [
       "array(['F', 'M'], dtype=object)"
      ]
     },
     "execution_count": 168,
     "metadata": {},
     "output_type": "execute_result"
    }
   ],
   "source": [
    "## for the gender we have to check that all the values or only 'M' or 'F'\n",
    "df['Gender'].unique()"
   ]
  },
  {
   "cell_type": "code",
   "execution_count": 169,
   "metadata": {
    "colab": {
     "base_uri": "https://localhost:8080/"
    },
    "id": "6Jh5GPOK3XXC",
    "outputId": "76eb9859-0848-4df4-d4fe-fdf604f0467d"
   },
   "outputs": [
    {
     "data": {
      "text/plain": [
       "array(['No', 'Yes'], dtype=object)"
      ]
     },
     "execution_count": 169,
     "metadata": {},
     "output_type": "execute_result"
    }
   ],
   "source": [
    "## for the NO-show we have to check that all the values or only 'Yes' or 'No'\n",
    "df['No-show'].unique()"
   ]
  },
  {
   "cell_type": "markdown",
   "metadata": {
    "id": "_OELvlrk3XXC"
   },
   "source": [
    "concluison: we found that there is negative values in the age column and we checked the rest and there wasn't any problem with them"
   ]
  },
  {
   "cell_type": "markdown",
   "metadata": {
    "id": "Ay2EOIMA3XXC"
   },
   "source": [
    "<a id='cleaning'></a>\n",
    "### Data Cleaning\n",
    "in this section we will start to clean our data from all the problems we searched for in tht data wranglind section like missing values , false values and invalid data types\n",
    " "
   ]
  },
  {
   "cell_type": "code",
   "execution_count": 170,
   "metadata": {
    "id": "DPPmGnVz3XXC"
   },
   "outputs": [],
   "source": [
    "##as we see there are some changes that must be done in the data set to be clean\n",
    "#first we will remove the rows that have negative age values\n",
    "df.drop(df[df['Age'] < 0].index,inplace = True)"
   ]
  },
  {
   "cell_type": "code",
   "execution_count": 171,
   "metadata": {
    "id": "2oC_CF9-3XXC"
   },
   "outputs": [],
   "source": [
    "# as we see the patient id is of type float so let's use what we learned in 'Fixing datatypes' to change it to int\n",
    "df['PatientId']=df['PatientId'].astype('int64')"
   ]
  },
  {
   "cell_type": "code",
   "execution_count": 172,
   "metadata": {
    "colab": {
     "base_uri": "https://localhost:8080/"
    },
    "id": "A7_hAmHq3XXD",
    "outputId": "3fd3fd49-bdc2-494d-b09e-9204bfe4b846"
   },
   "outputs": [
    {
     "name": "stdout",
     "output_type": "stream",
     "text": [
      "<class 'pandas.core.frame.DataFrame'>\n",
      "Int64Index: 110526 entries, 0 to 110526\n",
      "Data columns (total 14 columns):\n",
      " #   Column          Non-Null Count   Dtype              \n",
      "---  ------          --------------   -----              \n",
      " 0   PatientId       110526 non-null  int64              \n",
      " 1   AppointmentID   110526 non-null  int64              \n",
      " 2   Gender          110526 non-null  object             \n",
      " 3   ScheduledDay    110526 non-null  datetime64[ns, UTC]\n",
      " 4   AppointmentDay  110526 non-null  datetime64[ns, UTC]\n",
      " 5   Age             110526 non-null  int64              \n",
      " 6   Neighbourhood   110526 non-null  object             \n",
      " 7   Scholarship     110526 non-null  int64              \n",
      " 8   Hipertension    110526 non-null  int64              \n",
      " 9   Diabetes        110526 non-null  int64              \n",
      " 10  Alcoholism      110526 non-null  int64              \n",
      " 11  Handcap         110526 non-null  int64              \n",
      " 12  SMS_received    110526 non-null  int64              \n",
      " 13  No-show         110526 non-null  object             \n",
      "dtypes: datetime64[ns, UTC](2), int64(9), object(3)\n",
      "memory usage: 12.6+ MB\n"
     ]
    }
   ],
   "source": [
    "##let's change the ScheduledDay and AppointmentDay into datetime format so we can make analysis on the month and day of the appointments\n",
    "##we can do it by using  the method we use it in the first project \n",
    "df['AppointmentDay'] = pd.to_datetime(df['AppointmentDay'])\n",
    "df['ScheduledDay'] = pd.to_datetime(df['ScheduledDay'])\n",
    "df.info()"
   ]
  },
  {
   "cell_type": "code",
   "execution_count": 173,
   "metadata": {
    "id": "vKGuTC0r3XXD"
   },
   "outputs": [],
   "source": [
    "## now let's extract the month from the appointmentday and the day using the methods we used in the first project\n",
    "##we will extract the month and day and append each one of them to a new column\n",
    "df['month'] = df['AppointmentDay'].dt.month\n",
    "df['day'] = df['AppointmentDay'].dt.day_name()"
   ]
  },
  {
   "cell_type": "code",
   "execution_count": 174,
   "metadata": {
    "colab": {
     "base_uri": "https://localhost:8080/"
    },
    "id": "ZPmElso43XXD",
    "outputId": "06959636-87ff-45cb-899f-b4f3d01d18bb",
    "scrolled": true
   },
   "outputs": [
    {
     "data": {
      "text/plain": [
       "5    80841\n",
       "6    26450\n",
       "4     3235\n",
       "Name: month, dtype: int64"
      ]
     },
     "execution_count": 174,
     "metadata": {},
     "output_type": "execute_result"
    }
   ],
   "source": [
    "df['month'].value_counts()"
   ]
  },
  {
   "cell_type": "code",
   "execution_count": 175,
   "metadata": {
    "colab": {
     "base_uri": "https://localhost:8080/"
    },
    "id": "tTSzYxzj3XXD",
    "outputId": "2ba900a3-0176-4904-f108-be02f302ee9a",
    "scrolled": true
   },
   "outputs": [
    {
     "data": {
      "text/plain": [
       "Wednesday    25867\n",
       "Tuesday      25640\n",
       "Monday       22714\n",
       "Friday       19019\n",
       "Thursday     17247\n",
       "Saturday        39\n",
       "Name: day, dtype: int64"
      ]
     },
     "execution_count": 175,
     "metadata": {},
     "output_type": "execute_result"
    }
   ],
   "source": [
    "df['day'].value_counts()"
   ]
  },
  {
   "cell_type": "code",
   "execution_count": 176,
   "metadata": {
    "colab": {
     "base_uri": "https://localhost:8080/"
    },
    "id": "KnCa6tLZGCNb",
    "outputId": "57b99b08-18c9-4df9-ee30-74b6cb912fb7"
   },
   "outputs": [
    {
     "data": {
      "text/plain": [
       "0    84114\n",
       "1    18014\n",
       "2     7710\n",
       "3      624\n",
       "4       63\n",
       "5        1\n",
       "Name: number_ofdisease, dtype: int64"
      ]
     },
     "execution_count": 176,
     "metadata": {},
     "output_type": "execute_result"
    }
   ],
   "source": [
    "##let's create a column that contains the count of the famous 'features' disease that the patient have\n",
    "df['number_ofdisease'] = df['Hipertension']+df['Diabetes']+df['Alcoholism']+df['Handcap']\n",
    "df['number_ofdisease'].value_counts()"
   ]
  },
  {
   "cell_type": "code",
   "execution_count": 177,
   "metadata": {
    "id": "ZQn9rTYn3XXD"
   },
   "outputs": [],
   "source": [
    "##we learned in the wine case study that it will be a problem to leave a column name with a dash betweeen it so we will change it\n",
    "## it into a underscore\n",
    "df.rename(columns={'No-show':'No_Show'}, inplace=True)"
   ]
  },
  {
   "cell_type": "markdown",
   "metadata": {
    "id": "cFd79oco3XXE"
   },
   "source": [
    "conclusion: we solved the negative values data and the wrong datat types problem and renamed the no-show column adn also extracted a specific part from a column and append it into a new column for further use"
   ]
  },
  {
   "cell_type": "markdown",
   "metadata": {
    "id": "kp0RAp5X3XXE"
   },
   "source": [
    "<a id='eda'></a>\n",
    "## Exploratory Data Analysis\n",
    "\n",
    "In this section we will start creating visuals to help us understand the data making it more obvious in the terms of the values of the some columns itself and the relationship betweeen the records of different features and each other\n",
    "\n",
    "\n",
    "\n"
   ]
  },
  {
   "cell_type": "code",
   "execution_count": 178,
   "metadata": {
    "colab": {
     "base_uri": "https://localhost:8080/",
     "height": 466
    },
    "id": "9gfvXE_j3XXE",
    "outputId": "f77f6b24-92e2-42dd-f065-3bda6bd70b8f"
   },
   "outputs": [
    {
     "data": {
      "image/png": "[encoded data removed]",
      "text/plain": [
       "<Figure size 576x576 with 1 Axes>"
      ]
     },
     "metadata": {},
     "output_type": "display_data"
    }
   ],
   "source": [
    "PatientId_no_duplicate = pd.pivot_table(df, index='Gender', values='PatientId').plot(kind='pie',figsize=(8,8), autopct='%.2f%%',subplots=True)"
   ]
  },
  {
   "cell_type": "markdown",
   "metadata": {
    "id": "aiY7hKi1Ah8P"
   },
   "source": [
    "50.72 of the patients were male and the rest are female"
   ]
  },
  {
   "cell_type": "code",
   "execution_count": 179,
   "metadata": {
    "colab": {
     "base_uri": "https://localhost:8080/",
     "height": 561
    },
    "id": "T83Xt-p03XXE",
    "outputId": "9f4f8ca7-d09d-47b0-8f6e-a0724977b1ca"
   },
   "outputs": [
    {
     "data": {
      "image/png": "[encoded data removed]",
      "text/plain": [
       "<Figure size 576x576 with 1 Axes>"
      ]
     },
     "metadata": {
      "needs_background": "light"
     },
     "output_type": "display_data"
    }
   ],
   "source": [
    "ind = df['day'].value_counts().index\n",
    "df['day'].value_counts()[ind].plot(kind='bar', figsize=(8,8));\n",
    "plt.xlabel('Days of the week') \n",
    "plt.ylabel('Frequency')\n",
    "plt.title(\"most appointments' days\");"
   ]
  },
  {
   "cell_type": "markdown",
   "metadata": {
    "id": "Qw-bZ-Z4As6X"
   },
   "source": [
    "no appointments on sunday and the most day the appointments were on wednesday and tuesday"
   ]
  },
  {
   "cell_type": "code",
   "execution_count": 180,
   "metadata": {
    "colab": {
     "base_uri": "https://localhost:8080/",
     "height": 466
    },
    "id": "EnTqFtdG3XXE",
    "outputId": "d4353145-7940-492c-9455-4f427a3d2312"
   },
   "outputs": [
    {
     "data": {
      "image/png": "[encoded data removed]",
      "text/plain": [
       "<Figure size 576x576 with 1 Axes>"
      ]
     },
     "metadata": {},
     "output_type": "display_data"
    }
   ],
   "source": [
    "ind = df['month'].value_counts().index\n",
    "df['month'].value_counts()[ind].plot(kind='pie', figsize=(8,8));"
   ]
  },
  {
   "cell_type": "markdown",
   "metadata": {
    "id": "Gq07x9u9BObe"
   },
   "source": [
    "most of the appointments were on may"
   ]
  },
  {
   "cell_type": "code",
   "execution_count": 181,
   "metadata": {
    "colab": {
     "base_uri": "https://localhost:8080/",
     "height": 466
    },
    "id": "rM_akOHx8bsf",
    "outputId": "13c4257f-1a54-4795-accc-a61ee04ee45d"
   },
   "outputs": [
    {
     "data": {
      "image/png": "[encoded data removed]",
      "text/plain": [
       "<Figure size 576x576 with 1 Axes>"
      ]
     },
     "metadata": {},
     "output_type": "display_data"
    }
   ],
   "source": [
    "df['No_Show'].value_counts().plot(kind='pie',figsize=(8,8),autopct='%.3f%%');"
   ]
  },
  {
   "cell_type": "markdown",
   "metadata": {
    "id": "MF8sPen1BWlL"
   },
   "source": [
    "20.193% of the patients didn't show"
   ]
  },
  {
   "cell_type": "code",
   "execution_count": 182,
   "metadata": {
    "id": "enjRhsm63XXE"
   },
   "outputs": [],
   "source": [
    "df_a = df[df['No_Show']=='Yes']\n",
    "df_b = df[df['No_Show'] == 'No']"
   ]
  },
  {
   "cell_type": "code",
   "execution_count": 183,
   "metadata": {
    "colab": {
     "base_uri": "https://localhost:8080/",
     "height": 511
    },
    "id": "c6XclkAa3XXE",
    "outputId": "526beca3-6aff-4ced-c1da-4e9d4a9bba55",
    "scrolled": true
   },
   "outputs": [
    {
     "data": {
      "image/png": "[encoded data removed]",
      "text/plain": [
       "<Figure size 576x576 with 1 Axes>"
      ]
     },
     "metadata": {
      "needs_background": "light"
     },
     "output_type": "display_data"
    }
   ],
   "source": [
    "df_a['Gender'].value_counts().plot(kind = 'bar',figsize=(8,8))\n",
    "plt.xlabel('Sex')\n",
    "plt.ylabel('Number of patients')\n",
    "plt.title(\"Sex of patients didn't show\");"
   ]
  },
  {
   "cell_type": "code",
   "execution_count": 184,
   "metadata": {
    "colab": {
     "base_uri": "https://localhost:8080/",
     "height": 511
    },
    "id": "x8LsDinw3XXF",
    "outputId": "e8c1a601-3e4f-419a-f75c-7e1b6b18212c"
   },
   "outputs": [
    {
     "data": {
      "image/png": "[encoded data removed]",
      "text/plain": [
       "<Figure size 576x576 with 1 Axes>"
      ]
     },
     "metadata": {
      "needs_background": "light"
     },
     "output_type": "display_data"
    }
   ],
   "source": [
    "df_b['Gender'].value_counts().plot(kind = 'bar',figsize=(8,8));\n",
    "plt.xlabel('Sex') \n",
    "plt.ylabel('Number of patients')\n",
    "plt.title(\"Sex of patients did show\");"
   ]
  },
  {
   "cell_type": "markdown",
   "metadata": {
    "id": "xzaX5cfMBgOe"
   },
   "source": [
    "we splited the data frame into two dataframes with respect to the showing to the appointment \n",
    "and we found that most of appointments' patient were female\n",
    "most appointments with no_show were female and with showing were female too"
   ]
  },
  {
   "cell_type": "markdown",
   "metadata": {
    "id": "2FL-mR8X3XXF"
   },
   "source": [
    "### Research Question 1 (is there a relationship between the number of diseases the patient have and coming to the appointment?)"
   ]
  },
  {
   "cell_type": "code",
   "execution_count": 185,
   "metadata": {
    "colab": {
     "base_uri": "https://localhost:8080/",
     "height": 513
    },
    "id": "ETD6Xs103XXF",
    "outputId": "01811d91-9189-4699-c103-bb4f72adb0b2"
   },
   "outputs": [
    {
     "data": {
      "image/png": "[encoded data removed]",
      "text/plain": [
       "<Figure size 576x576 with 1 Axes>"
      ]
     },
     "metadata": {
      "needs_background": "light"
     },
     "output_type": "display_data"
    }
   ],
   "source": [
    "df_a.number_ofdisease.hist(figsize=(8,8),color = \"skyblue\");\n",
    "df_b.number_ofdisease.hist(figsize=(8,8),color = \"r\");\n",
    "plt.xlabel('Number of diseases')\n",
    "plt.ylabel('Number of appointments')\n",
    "plt.title('Number of diseases vs number of appointments')\n",
    "plt.legend([\"Didn't show\",\"Showed\"]);"
   ]
  },
  {
   "cell_type": "markdown",
   "metadata": {
    "id": "LIPc04aPYVSS"
   },
   "source": [
    "1)No relation ship between the number of diseases and the attendance of the appointment\n",
    "\n",
    "2)Most of patients that schedule an appointment didn't suffer from any disease of diseases mentioned above"
   ]
  },
  {
   "cell_type": "markdown",
   "metadata": {
    "id": "MlJGTBqn3XXF"
   },
   "source": [
    "### Research Question 2  (Is there a relationship between the age of the patient and coming to the appointment?)"
   ]
  },
  {
   "cell_type": "code",
   "execution_count": 191,
   "metadata": {
    "colab": {
     "base_uri": "https://localhost:8080/",
     "height": 500
    },
    "id": "6-srbbHyC5uF",
    "outputId": "56e7c9a6-e64c-4061-e92a-0c4cee9c0b92"
   },
   "outputs": [
    {
     "data": {
      "text/plain": [
       "<matplotlib.legend.Legend at 0x293605625e0>"
      ]
     },
     "execution_count": 191,
     "metadata": {},
     "output_type": "execute_result"
    },
    {
     "data": {
      "image/png": "[encoded data removed]",
      "text/plain": [
       "<Figure size 576x576 with 1 Axes>"
      ]
     },
     "metadata": {
      "needs_background": "light"
     },
     "output_type": "display_data"
    }
   ],
   "source": [
    "df.loc[df['No_Show']==0].Age.hist(figsize=(8,8),color = \"skyblue\");\n",
    "df.loc[df['No_Show']==1].Age.hist(figsize=(8,8),color = \"r\");\n",
    "plt.xlabel('Age') \n",
    "plt.ylabel('Number of appointments')\n",
    "plt.title(\"Age vs number of appointments\")\n",
    "plt.legend(['Showed',\"Didn't show\"])"
   ]
  },
  {
   "cell_type": "markdown",
   "metadata": {
    "id": "sadSzAevazob"
   },
   "source": [
    "1) young children and people between the age of 50 and 58 are the most committed people to their appointments\n",
    "\n",
    "2)most of the appointments have been attended\n",
    "\n",
    "3) people older than 70 are the most people to not miss their appointments\n",
    "\n",
    "4)young children and adults between 25 and 35 have the  most high absence"
   ]
  },
  {
   "cell_type": "markdown",
   "metadata": {
    "id": "WcP8lvk7WvUN"
   },
   "source": [
    "### Research Question 3  (Is there a relationship between the day of the appointment and coming to the appointment?)"
   ]
  },
  {
   "cell_type": "code",
   "execution_count": 187,
   "metadata": {
    "id": "ZcmRUAcOQ-cR"
   },
   "outputs": [],
   "source": [
    "df['No_Show'] = df['No_Show'].str.lower().replace({'yes': 1, 'no': 0})\n",
    "\n"
   ]
  },
  {
   "cell_type": "code",
   "execution_count": 188,
   "metadata": {
    "colab": {
     "base_uri": "https://localhost:8080/",
     "height": 483
    },
    "id": "xVVfRhN-JItM",
    "outputId": "03354529-b88a-4dc7-c20a-db3fd69d252e"
   },
   "outputs": [
    {
     "data": {
      "image/png": "[encoded data removed]",
      "text/plain": [
       "<Figure size 576x576 with 1 Axes>"
      ]
     },
     "metadata": {
      "needs_background": "light"
     },
     "output_type": "display_data"
    }
   ],
   "source": [
    "df.loc[df['No_Show']==0].day.hist(figsize=(8,8),color = \"skyblue\");\n",
    "df.loc[df['No_Show']==1].day.hist(figsize=(8,8),color = \"r\");\n",
    "plt.xlabel('Day') \n",
    "plt.ylabel('Number of appointments') \n",
    "plt.title(\"day vs Number of Appointments\");\n",
    "plt.legend(['Showed',\"Didn't show\"]);"
   ]
  },
  {
   "cell_type": "markdown",
   "metadata": {
    "id": "3HToN-zMdAnP"
   },
   "source": [
    "1)tuesday and wednesday have the most missed and attended appointments\n",
    "\n",
    "2)saturday is the most day with no appointments on it"
   ]
  },
  {
   "cell_type": "code",
   "execution_count": 189,
   "metadata": {
    "colab": {
     "base_uri": "https://localhost:8080/",
     "height": 501
    },
    "id": "wa7ZcOHiTEG3",
    "outputId": "29687b10-5b3c-4e19-ad16-4379eb26ea99"
   },
   "outputs": [
    {
     "data": {
      "text/plain": [
       "array([<AxesSubplot:ylabel='No_Show'>], dtype=object)"
      ]
     },
     "execution_count": 189,
     "metadata": {},
     "output_type": "execute_result"
    },
    {
     "data": {
      "image/png": "[encoded data removed]",
      "text/plain": [
       "<Figure size 576x576 with 1 Axes>"
      ]
     },
     "metadata": {},
     "output_type": "display_data"
    }
   ],
   "source": [
    "pd.pivot_table(df, index='day', values='No_Show').plot(kind='pie',figsize=(8,8), autopct='%.2f%%',subplots=True)"
   ]
  },
  {
   "cell_type": "markdown",
   "metadata": {
    "id": "2HwrrUs3fr3u"
   },
   "source": [
    "1)saturday is the most day with missed appointments\n",
    "\n",
    "2)thursday is the day with less missed appointments"
   ]
  },
  {
   "cell_type": "markdown",
   "metadata": {
    "id": "Gqe9S_1D3XXF"
   },
   "source": [
    "<a id='conclusions'></a>\n",
    "## Conclusions\n",
    "\n",
    "1) About 20.193 % of appointments are missed\n",
    "\n",
    "2) Most of the missed appointments' patients are female\n",
    "\n",
    "3) young children and adults between 25 and 35 have the most high absence\n",
    "\n",
    "4) May is the month with the most missed appointments\n",
    "\n",
    "5) Saturday is the day with the most missed appointments\n",
    "\n",
    "limitations : \n",
    "1) we don't have the reason for the appointment( a clear name for the disease he has or symptoms)\n",
    "2) we didn't know the reason people are absence and if there were any reasons given for missing the appointments or no\n",
    "\n",
    "\n",
    "## Submitting your Project \n",
    "\n",
    "> **Tip**: Before you submit your project, you need to create a .html or .pdf version of this notebook in the workspace here. To do that, run the code cell below. If it worked correctly, you should get a return code of 0, and you should see the generated .html file in the workspace directory (click on the orange Jupyter icon in the upper left).\n",
    "\n",
    "> **Tip**: Alternatively, you can download this report as .html via the **File** > **Download as** submenu, and then manually upload it into the workspace directory by clicking on the orange Jupyter icon in the upper left, then using the Upload button.\n",
    "\n",
    "> **Tip**: Once you've done this, you can submit your project by clicking on the \"Submit Project\" button in the lower right here. This will create and submit a zip file with this .ipynb doc and the .html or .pdf version you created. Congratulations!"
   ]
  },
  {
   "cell_type": "code",
   "execution_count": 190,
   "metadata": {
    "colab": {
     "base_uri": "https://localhost:8080/"
    },
    "id": "Y6bdh9QZ3XXF",
    "outputId": "5492fa21-bd0d-48e2-a098-2a2ce9cbb1ec"
   },
   "outputs": [
    {
     "data": {
      "text/plain": [
       "1"
      ]
     },
     "execution_count": 190,
     "metadata": {},
     "output_type": "execute_result"
    }
   ],
   "source": [
    "from subprocess import call\n",
    "call(['python', '-m', 'nbconvert', 'Investigate_a_Dataset.ipynb'])"
   ]
  },
  {
   "cell_type": "code",
   "execution_count": null,
   "metadata": {
    "id": "Bo7a-n8Sl5ZF"
   },
   "outputs": [],
   "source": []
  }
 ],
 "metadata": {
  "colab": {
   "collapsed_sections": [
    "GD0_STzp3XW6",
    "Ay2EOIMA3XXC",
    "Gqe9S_1D3XXF"
   ],
   "name": "Investigate_a_Dataset.ipynb",
   "provenance": []
  },
  "kernelspec": {
   "display_name": "Python 3 (ipykernel)",
   "language": "python",
   "name": "python3"
  },
  "language_info": {
   "codemirror_mode": {
    "name": "ipython",
    "version": 3
   },
   "file_extension": ".py",
   "mimetype": "text/x-python",
   "name": "python",
   "nbconvert_exporter": "python",
   "pygments_lexer": "ipython3",
   "version": "3.9.7"
  }
 },
 "nbformat": 4,
 "nbformat_minor": 1
}
